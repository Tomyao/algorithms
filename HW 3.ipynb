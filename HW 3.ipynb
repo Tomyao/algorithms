{
 "cells": [
  {
   "cell_type": "code",
   "execution_count": 1,
   "metadata": {
    "collapsed": true
   },
   "outputs": [],
   "source": [
    "import numpy as np\n",
    "import random\n",
    "\n",
    "def init_graph_matrix(n):\n",
    "    # create n by n matrix\n",
    "    mymatrix = np.zeros([n,n])\n",
    "    # for each row\n",
    "    for i in range(n):\n",
    "        # for each column column greater than the index of the row\n",
    "        for j in range(i+1,n):\n",
    "            # 50 percent chance of creating edge\n",
    "            if random.random() < 0.5:\n",
    "                # create edge\n",
    "                mymatrix[i][j] = 1\n",
    "                # mirror on other side of matrix\n",
    "                mymatrix[j][i] = 1\n",
    "    \n",
    "    return mymatrix"
   ]
  },
  {
   "cell_type": "code",
   "execution_count": 2,
   "metadata": {
    "collapsed": true
   },
   "outputs": [],
   "source": [
    "def greedy_independent_set(m):\n",
    "    node_number = m.shape[0]\n",
    "    \n",
    "    set_size = 0\n",
    "    \n",
    "    while m.shape[0] > 1:\n",
    "        # find the row with least 1's\n",
    "        index = m.sum(axis=1).argmin()\n",
    "        removal_list = [index]\n",
    "        # get all nodes it is connected to\n",
    "        for i in range(len(m[index])):\n",
    "            if m[index][i] == 1:\n",
    "                removal_list.append(i)\n",
    "        # delete rows and columns corresponding to those nodes\n",
    "        m = np.delete(m, removal_list, axis = 0)\n",
    "        m = np.delete(m, removal_list, axis = 1)\n",
    "        \n",
    "        #print (\"Nodes left: \" + str(m.shape[0]))\n",
    "        \n",
    "        set_size += 1\n",
    "        \n",
    "    # check to see if there is 1 node left\n",
    "    if m.shape[0] == 1:\n",
    "        set_size += 1\n",
    "    \n",
    "    return set_size"
   ]
  },
  {
   "cell_type": "code",
   "execution_count": 3,
   "metadata": {},
   "outputs": [
    {
     "name": "stdout",
     "output_type": "stream",
     "text": [
      "Num nodes\tAvg set size\n",
      "1\t\t1.0\n",
      "2\t\t1.6\n",
      "3\t\t2.2\n",
      "4\t\t2.3\n",
      "5\t\t2.3\n",
      "6\t\t2.7\n",
      "7\t\t3.1\n",
      "8\t\t3.8\n",
      "9\t\t3.5\n",
      "10\t\t3.7\n",
      "20\t\t5.2\n",
      "30\t\t5.4\n",
      "40\t\t6.6\n",
      "50\t\t7.0\n",
      "60\t\t7.4\n",
      "70\t\t7.6\n",
      "80\t\t8.1\n",
      "90\t\t8.1\n",
      "100\t\t8.6\n",
      "200\t\t9.2\n",
      "300\t\t10.1\n",
      "400\t\t10.7\n",
      "500\t\t11.3\n",
      "600\t\t11.1\n",
      "700\t\t11.6\n",
      "800\t\t11.8\n",
      "900\t\t12.4\n"
     ]
    },
    {
     "ename": "KeyboardInterrupt",
     "evalue": "",
     "output_type": "error",
     "traceback": [
      "\u001b[0;31m---------------------------------------------------------------------------\u001b[0m",
      "\u001b[0;31mKeyboardInterrupt\u001b[0m                         Traceback (most recent call last)",
      "\u001b[0;32m<ipython-input-3-b586cd7a56d0>\u001b[0m in \u001b[0;36m<module>\u001b[0;34m()\u001b[0m\n\u001b[1;32m      8\u001b[0m         \u001b[0msetsize\u001b[0m \u001b[0;34m=\u001b[0m \u001b[0;36m0\u001b[0m\u001b[0;34m\u001b[0m\u001b[0m\n\u001b[1;32m      9\u001b[0m         \u001b[0;32mfor\u001b[0m \u001b[0mj\u001b[0m \u001b[0;32min\u001b[0m \u001b[0mrange\u001b[0m\u001b[0;34m(\u001b[0m\u001b[0;36m10\u001b[0m\u001b[0;34m)\u001b[0m\u001b[0;34m:\u001b[0m\u001b[0;34m\u001b[0m\u001b[0m\n\u001b[0;32m---> 10\u001b[0;31m             \u001b[0mtestmatrix\u001b[0m \u001b[0;34m=\u001b[0m \u001b[0minit_graph_matrix\u001b[0m\u001b[0;34m(\u001b[0m\u001b[0mnum_nodes\u001b[0m\u001b[0;34m)\u001b[0m\u001b[0;34m\u001b[0m\u001b[0m\n\u001b[0m\u001b[1;32m     11\u001b[0m             \u001b[0msetsize\u001b[0m \u001b[0;34m+=\u001b[0m \u001b[0mgreedy_independent_set\u001b[0m\u001b[0;34m(\u001b[0m\u001b[0mtestmatrix\u001b[0m\u001b[0;34m)\u001b[0m\u001b[0;34m\u001b[0m\u001b[0m\n\u001b[1;32m     12\u001b[0m         \u001b[0msetsize\u001b[0m \u001b[0;34m/=\u001b[0m \u001b[0;36m10.0\u001b[0m\u001b[0;34m\u001b[0m\u001b[0m\n",
      "\u001b[0;32m<ipython-input-1-8719fbafda65>\u001b[0m in \u001b[0;36minit_graph_matrix\u001b[0;34m(n)\u001b[0m\n\u001b[1;32m     14\u001b[0m                 \u001b[0mmymatrix\u001b[0m\u001b[0;34m[\u001b[0m\u001b[0mi\u001b[0m\u001b[0;34m]\u001b[0m\u001b[0;34m[\u001b[0m\u001b[0mj\u001b[0m\u001b[0;34m]\u001b[0m \u001b[0;34m=\u001b[0m \u001b[0;36m1\u001b[0m\u001b[0;34m\u001b[0m\u001b[0m\n\u001b[1;32m     15\u001b[0m                 \u001b[0;31m# mirror on other side of matrix\u001b[0m\u001b[0;34m\u001b[0m\u001b[0;34m\u001b[0m\u001b[0m\n\u001b[0;32m---> 16\u001b[0;31m                 \u001b[0mmymatrix\u001b[0m\u001b[0;34m[\u001b[0m\u001b[0mj\u001b[0m\u001b[0;34m]\u001b[0m\u001b[0;34m[\u001b[0m\u001b[0mi\u001b[0m\u001b[0;34m]\u001b[0m \u001b[0;34m=\u001b[0m \u001b[0;36m1\u001b[0m\u001b[0;34m\u001b[0m\u001b[0m\n\u001b[0m\u001b[1;32m     17\u001b[0m \u001b[0;34m\u001b[0m\u001b[0m\n\u001b[1;32m     18\u001b[0m     \u001b[0;32mreturn\u001b[0m \u001b[0mmymatrix\u001b[0m\u001b[0;34m\u001b[0m\u001b[0m\n",
      "\u001b[0;31mKeyboardInterrupt\u001b[0m: "
     ]
    }
   ],
   "source": [
    "print (\"Num nodes\\tAvg set size\")\n",
    "\n",
    "for exponent in range(10):\n",
    "    myexp = 10 ** exponent\n",
    "    for i in range(1,10):\n",
    "        num_nodes = i * myexp\n",
    "        # run algorithm 10 times and take the average\n",
    "        setsize = 0\n",
    "        for j in range(10):\n",
    "            testmatrix = init_graph_matrix(num_nodes)\n",
    "            setsize += greedy_independent_set(testmatrix)\n",
    "        setsize /= 10.0\n",
    "        \n",
    "        print ( str(num_nodes) + \"\\t\\t\" + str(setsize))"
   ]
  },
  {
   "cell_type": "code",
   "execution_count": null,
   "metadata": {
    "collapsed": true
   },
   "outputs": [],
   "source": []
  }
 ],
 "metadata": {
  "kernelspec": {
   "display_name": "Python 3",
   "language": "python",
   "name": "python3"
  },
  "language_info": {
   "codemirror_mode": {
    "name": "ipython",
    "version": 3
   },
   "file_extension": ".py",
   "mimetype": "text/x-python",
   "name": "python",
   "nbconvert_exporter": "python",
   "pygments_lexer": "ipython3",
   "version": "3.6.2"
  }
 },
 "nbformat": 4,
 "nbformat_minor": 2
}
